{
 "cells": [
  {
   "cell_type": "markdown",
   "metadata": {},
   "source": [
    "## Data Cleaning & Feature Engineering\n",
    "\n",
    "Let's start cleaning our data. We will start this task by first looking at our data and then decide what we need to do. During this phase we will also assess if we need split or drop existing features, or create entirely new features.\n",
    "\n",
    "For cleaning the data, I have created a .py containing all the functions that will help me clean. There can be other approaches, but this is what I'm going to follow.\n",
    "\n",
    "A typical data cleaning task starts with reviewing the data which we have. So, let's start exploring our data and see what we have to clean."
   ]
  },
  {
   "cell_type": "markdown",
   "metadata": {},
   "source": []
  },
  {
   "cell_type": "code",
   "execution_count": 106,
   "metadata": {},
   "outputs": [],
   "source": [
    "#importing libraries\n",
    "\n",
    "import pandas as pd\n",
    "import data_cleaning as dc"
   ]
  },
  {
   "cell_type": "code",
   "execution_count": 107,
   "metadata": {},
   "outputs": [
    {
     "name": "stdout",
     "output_type": "stream",
     "text": [
      "We have 1893 rows and 12 columns in our dataframe\n"
     ]
    }
   ],
   "source": [
    "# reading our properties data into dataframe\n",
    "\n",
    "df_properties = pd.read_csv('properties1_rent.csv')\n",
    "\n",
    "df_properties['price'] = df_properties.price.apply(lambda x: x.replace(' AED', ''))\n",
    "df_properties['price'] = df_properties.price.apply(lambda x: x.replace('  / yearly', ''))  \n",
    "#df_properties['no_of_bathrooms'] = df_properties.no_of_bathrooms.apply(lambda x: x if x == '7+' else x)    \n",
    "\n",
    "# lets see the dimensions of the data\n",
    "print('We have', df_properties.shape[0], 'rows and', df_properties.shape[1], 'columns in our dataframe')\n"
   ]
  },
  {
   "cell_type": "code",
   "execution_count": 108,
   "metadata": {},
   "outputs": [
    {
     "data": {
      "text/html": [
       "<div>\n",
       "<style scoped>\n",
       "    .dataframe tbody tr th:only-of-type {\n",
       "        vertical-align: middle;\n",
       "    }\n",
       "\n",
       "    .dataframe tbody tr th {\n",
       "        vertical-align: top;\n",
       "    }\n",
       "\n",
       "    .dataframe thead th {\n",
       "        text-align: right;\n",
       "    }\n",
       "</style>\n",
       "<table border=\"1\" class=\"dataframe\">\n",
       "  <thead>\n",
       "    <tr style=\"text-align: right;\">\n",
       "      <th></th>\n",
       "      <th>id</th>\n",
       "      <th>title</th>\n",
       "      <th>price</th>\n",
       "      <th>location</th>\n",
       "      <th>latitude</th>\n",
       "      <th>longitude</th>\n",
       "      <th>type</th>\n",
       "      <th>size</th>\n",
       "      <th>no_of_bedrooms</th>\n",
       "      <th>no_of_bathrooms</th>\n",
       "      <th>completion_status</th>\n",
       "      <th>amenities</th>\n",
       "    </tr>\n",
       "  </thead>\n",
       "  <tbody>\n",
       "    <tr>\n",
       "      <th>0</th>\n",
       "      <td>8935194</td>\n",
       "      <td>Luxury | Fitted Kitchen | Prime Location</td>\n",
       "      <td>34000</td>\n",
       "      <td>Dubai, Arjan</td>\n",
       "      <td>25.065806</td>\n",
       "      <td>55.233004</td>\n",
       "      <td>Apartment</td>\n",
       "      <td>468sqft  43sqm</td>\n",
       "      <td>studio</td>\n",
       "      <td>1.0</td>\n",
       "      <td>NaN</td>\n",
       "      <td>Unfurnished, Balcony, Built in Wardrobes, Cent...</td>\n",
       "    </tr>\n",
       "    <tr>\n",
       "      <th>1</th>\n",
       "      <td>8922509</td>\n",
       "      <td>Luxurious Unit w/ Sea and Downtown Views</td>\n",
       "      <td>700000</td>\n",
       "      <td>Dubai, Jumeirah, Jumeirah Bay Island</td>\n",
       "      <td>25.215192</td>\n",
       "      <td>55.235827</td>\n",
       "      <td>Apartment</td>\n",
       "      <td>1620sqft  151sqm</td>\n",
       "      <td>1</td>\n",
       "      <td>2.0</td>\n",
       "      <td>NaN</td>\n",
       "      <td>Furnished, Balcony, Built in Wardrobes, Centra...</td>\n",
       "    </tr>\n",
       "    <tr>\n",
       "      <th>2</th>\n",
       "      <td>8919569</td>\n",
       "      <td>With maid room /Spacious lay out /Balcony terrace</td>\n",
       "      <td>50000</td>\n",
       "      <td>Dubai, Arjan</td>\n",
       "      <td>25.061118</td>\n",
       "      <td>55.245642</td>\n",
       "      <td>Apartment</td>\n",
       "      <td>900sqft  84sqm</td>\n",
       "      <td>1</td>\n",
       "      <td>2.0</td>\n",
       "      <td>NaN</td>\n",
       "      <td>Unfurnished, Balcony, Built in Wardrobes, Cent...</td>\n",
       "    </tr>\n",
       "  </tbody>\n",
       "</table>\n",
       "</div>"
      ],
      "text/plain": [
       "        id                                              title   price  \\\n",
       "0  8935194          Luxury | Fitted Kitchen | Prime Location    34000   \n",
       "1  8922509           Luxurious Unit w/ Sea and Downtown Views  700000   \n",
       "2  8919569  With maid room /Spacious lay out /Balcony terrace   50000   \n",
       "\n",
       "                               location   latitude  longitude       type  \\\n",
       "0                          Dubai, Arjan  25.065806  55.233004  Apartment   \n",
       "1  Dubai, Jumeirah, Jumeirah Bay Island  25.215192  55.235827  Apartment   \n",
       "2                          Dubai, Arjan  25.061118  55.245642  Apartment   \n",
       "\n",
       "               size no_of_bedrooms  no_of_bathrooms  completion_status  \\\n",
       "0    468sqft  43sqm         studio              1.0                NaN   \n",
       "1  1620sqft  151sqm              1              2.0                NaN   \n",
       "2    900sqft  84sqm              1              2.0                NaN   \n",
       "\n",
       "                                           amenities  \n",
       "0  Unfurnished, Balcony, Built in Wardrobes, Cent...  \n",
       "1  Furnished, Balcony, Built in Wardrobes, Centra...  \n",
       "2  Unfurnished, Balcony, Built in Wardrobes, Cent...  "
      ]
     },
     "execution_count": 108,
     "metadata": {},
     "output_type": "execute_result"
    }
   ],
   "source": [
    "df_properties.head(3)"
   ]
  },
  {
   "cell_type": "markdown",
   "metadata": {},
   "source": [
    "#### 1. Removing unwanted columns\n",
    "\n",
    "Looking at the above data, we can see that we have a title and type columns, these does not add much value to our analysis and modeling. So we can safely remove them from our dataframe.\n",
    "\n",
    "All other columns are relevant to either model building or exploratory analysis."
   ]
  },
  {
   "cell_type": "code",
   "execution_count": 109,
   "metadata": {},
   "outputs": [],
   "source": [
    "# calling our function to remove unwanted columns\n",
    "column_list = ['title', 'type']\n",
    "df_properties = dc.remove_unwanted_columns(df_properties, column_list)\n",
    "\n",
    "# lets preview our data again after deletion\n",
    "df_properties.head()\n",
    "\n",
    "#delete row which have Nan amenities \n",
    "#df_properties['Charge_Per_Line'] = df_properties['Charge_Per_Line'].replace('-', np.nan)\n",
    "df_properties  = df_properties.dropna(axis=0, subset=['amenities'])"
   ]
  },
  {
   "cell_type": "markdown",
   "metadata": {},
   "source": [
    "#### 2. Removing duplicates\n",
    "\n",
    "Let's make sure we don't have any duplicate properties. To do that, let's look at our id field for duplication."
   ]
  },
  {
   "cell_type": "code",
   "execution_count": 110,
   "metadata": {},
   "outputs": [
    {
     "data": {
      "text/html": [
       "<div>\n",
       "<style scoped>\n",
       "    .dataframe tbody tr th:only-of-type {\n",
       "        vertical-align: middle;\n",
       "    }\n",
       "\n",
       "    .dataframe tbody tr th {\n",
       "        vertical-align: top;\n",
       "    }\n",
       "\n",
       "    .dataframe thead th {\n",
       "        text-align: right;\n",
       "    }\n",
       "</style>\n",
       "<table border=\"1\" class=\"dataframe\">\n",
       "  <thead>\n",
       "    <tr style=\"text-align: right;\">\n",
       "      <th></th>\n",
       "      <th>id</th>\n",
       "      <th>price</th>\n",
       "      <th>location</th>\n",
       "      <th>latitude</th>\n",
       "      <th>longitude</th>\n",
       "      <th>size</th>\n",
       "      <th>no_of_bedrooms</th>\n",
       "      <th>no_of_bathrooms</th>\n",
       "      <th>completion_status</th>\n",
       "      <th>amenities</th>\n",
       "    </tr>\n",
       "  </thead>\n",
       "  <tbody>\n",
       "    <tr>\n",
       "      <th>365</th>\n",
       "      <td>8790078</td>\n",
       "      <td>345000</td>\n",
       "      <td>Dubai, Meadows</td>\n",
       "      <td>25.073219</td>\n",
       "      <td>55.155037</td>\n",
       "      <td>6264sqft  582sqm</td>\n",
       "      <td>5</td>\n",
       "      <td>5.0</td>\n",
       "      <td>NaN</td>\n",
       "      <td>Unfurnished, Balcony, Built in Wardrobes, Maid...</td>\n",
       "    </tr>\n",
       "    <tr>\n",
       "      <th>363</th>\n",
       "      <td>8790078</td>\n",
       "      <td>345000</td>\n",
       "      <td>Dubai, Meadows</td>\n",
       "      <td>25.073219</td>\n",
       "      <td>55.155037</td>\n",
       "      <td>6264sqft  582sqm</td>\n",
       "      <td>5</td>\n",
       "      <td>5.0</td>\n",
       "      <td>NaN</td>\n",
       "      <td>Unfurnished, Balcony, Built in Wardrobes, Maid...</td>\n",
       "    </tr>\n",
       "    <tr>\n",
       "      <th>1449</th>\n",
       "      <td>8804419</td>\n",
       "      <td>40000</td>\n",
       "      <td>Dubai, Dubai Sports City</td>\n",
       "      <td>25.040177</td>\n",
       "      <td>55.222445</td>\n",
       "      <td>833sqft  77sqm</td>\n",
       "      <td>1</td>\n",
       "      <td>2.0</td>\n",
       "      <td>NaN</td>\n",
       "      <td>Unfurnished, Balcony, Built in Wardrobes, Cent...</td>\n",
       "    </tr>\n",
       "    <tr>\n",
       "      <th>1453</th>\n",
       "      <td>8804419</td>\n",
       "      <td>40000</td>\n",
       "      <td>Dubai, Dubai Sports City</td>\n",
       "      <td>25.040177</td>\n",
       "      <td>55.222445</td>\n",
       "      <td>833sqft  77sqm</td>\n",
       "      <td>1</td>\n",
       "      <td>2.0</td>\n",
       "      <td>NaN</td>\n",
       "      <td>Unfurnished, Balcony, Built in Wardrobes, Cent...</td>\n",
       "    </tr>\n",
       "    <tr>\n",
       "      <th>862</th>\n",
       "      <td>8810114</td>\n",
       "      <td>1800000</td>\n",
       "      <td>Dubai, Mohammed Bin Rashid City, District One</td>\n",
       "      <td>25.168896</td>\n",
       "      <td>55.273708</td>\n",
       "      <td>16215sqft  1506sqm</td>\n",
       "      <td>6</td>\n",
       "      <td>7.0</td>\n",
       "      <td>NaN</td>\n",
       "      <td>Unfurnished, Balcony, Built in Wardrobes, Cent...</td>\n",
       "    </tr>\n",
       "    <tr>\n",
       "      <th>...</th>\n",
       "      <td>...</td>\n",
       "      <td>...</td>\n",
       "      <td>...</td>\n",
       "      <td>...</td>\n",
       "      <td>...</td>\n",
       "      <td>...</td>\n",
       "      <td>...</td>\n",
       "      <td>...</td>\n",
       "      <td>...</td>\n",
       "      <td>...</td>\n",
       "    </tr>\n",
       "    <tr>\n",
       "      <th>1257</th>\n",
       "      <td>8914938</td>\n",
       "      <td>95000</td>\n",
       "      <td>Dubai, Bur Dubai</td>\n",
       "      <td>25.252613</td>\n",
       "      <td>55.299857</td>\n",
       "      <td>1441sqft  134sqm</td>\n",
       "      <td>2</td>\n",
       "      <td>2.0</td>\n",
       "      <td>NaN</td>\n",
       "      <td>Unfurnished, Balcony, Built in Wardrobes, Pets...</td>\n",
       "    </tr>\n",
       "    <tr>\n",
       "      <th>102</th>\n",
       "      <td>8924142</td>\n",
       "      <td>115000</td>\n",
       "      <td>Dubai, Damac Hills 2, Aster</td>\n",
       "      <td>24.989435</td>\n",
       "      <td>55.388858</td>\n",
       "      <td>1882sqft  175sqm</td>\n",
       "      <td>4</td>\n",
       "      <td>5.0</td>\n",
       "      <td>NaN</td>\n",
       "      <td>Furnished, Balcony, Built in Wardrobes, Covere...</td>\n",
       "    </tr>\n",
       "    <tr>\n",
       "      <th>56</th>\n",
       "      <td>8924142</td>\n",
       "      <td>115000</td>\n",
       "      <td>Dubai, Damac Hills 2, Aster</td>\n",
       "      <td>24.989435</td>\n",
       "      <td>55.388858</td>\n",
       "      <td>1882sqft  175sqm</td>\n",
       "      <td>4</td>\n",
       "      <td>5.0</td>\n",
       "      <td>NaN</td>\n",
       "      <td>Furnished, Balcony, Built in Wardrobes, Covere...</td>\n",
       "    </tr>\n",
       "    <tr>\n",
       "      <th>895</th>\n",
       "      <td>8937129</td>\n",
       "      <td>190000</td>\n",
       "      <td>Dubai, Dubai Marina, Emaar 6 Towers</td>\n",
       "      <td>25.084146</td>\n",
       "      <td>55.148554</td>\n",
       "      <td>1552sqft  144sqm</td>\n",
       "      <td>2</td>\n",
       "      <td>2.0</td>\n",
       "      <td>NaN</td>\n",
       "      <td>Unfurnished, Covered Parking, Lobby in Buildin...</td>\n",
       "    </tr>\n",
       "    <tr>\n",
       "      <th>710</th>\n",
       "      <td>8937129</td>\n",
       "      <td>190000</td>\n",
       "      <td>Dubai, Dubai Marina, Emaar 6 Towers</td>\n",
       "      <td>25.084146</td>\n",
       "      <td>55.148554</td>\n",
       "      <td>1552sqft  144sqm</td>\n",
       "      <td>2</td>\n",
       "      <td>2.0</td>\n",
       "      <td>NaN</td>\n",
       "      <td>Unfurnished, Covered Parking, Lobby in Buildin...</td>\n",
       "    </tr>\n",
       "  </tbody>\n",
       "</table>\n",
       "<p>44 rows × 10 columns</p>\n",
       "</div>"
      ],
      "text/plain": [
       "           id    price                                       location  \\\n",
       "365   8790078   345000                                 Dubai, Meadows   \n",
       "363   8790078   345000                                 Dubai, Meadows   \n",
       "1449  8804419    40000                       Dubai, Dubai Sports City   \n",
       "1453  8804419    40000                       Dubai, Dubai Sports City   \n",
       "862   8810114  1800000  Dubai, Mohammed Bin Rashid City, District One   \n",
       "...       ...      ...                                            ...   \n",
       "1257  8914938    95000                               Dubai, Bur Dubai   \n",
       "102   8924142   115000                    Dubai, Damac Hills 2, Aster   \n",
       "56    8924142   115000                    Dubai, Damac Hills 2, Aster   \n",
       "895   8937129   190000            Dubai, Dubai Marina, Emaar 6 Towers   \n",
       "710   8937129   190000            Dubai, Dubai Marina, Emaar 6 Towers   \n",
       "\n",
       "       latitude  longitude                size no_of_bedrooms  \\\n",
       "365   25.073219  55.155037    6264sqft  582sqm              5   \n",
       "363   25.073219  55.155037    6264sqft  582sqm              5   \n",
       "1449  25.040177  55.222445      833sqft  77sqm              1   \n",
       "1453  25.040177  55.222445      833sqft  77sqm              1   \n",
       "862   25.168896  55.273708  16215sqft  1506sqm              6   \n",
       "...         ...        ...                 ...            ...   \n",
       "1257  25.252613  55.299857    1441sqft  134sqm              2   \n",
       "102   24.989435  55.388858    1882sqft  175sqm              4   \n",
       "56    24.989435  55.388858    1882sqft  175sqm              4   \n",
       "895   25.084146  55.148554    1552sqft  144sqm              2   \n",
       "710   25.084146  55.148554    1552sqft  144sqm              2   \n",
       "\n",
       "      no_of_bathrooms  completion_status  \\\n",
       "365               5.0                NaN   \n",
       "363               5.0                NaN   \n",
       "1449              2.0                NaN   \n",
       "1453              2.0                NaN   \n",
       "862               7.0                NaN   \n",
       "...               ...                ...   \n",
       "1257              2.0                NaN   \n",
       "102               5.0                NaN   \n",
       "56                5.0                NaN   \n",
       "895               2.0                NaN   \n",
       "710               2.0                NaN   \n",
       "\n",
       "                                              amenities  \n",
       "365   Unfurnished, Balcony, Built in Wardrobes, Maid...  \n",
       "363   Unfurnished, Balcony, Built in Wardrobes, Maid...  \n",
       "1449  Unfurnished, Balcony, Built in Wardrobes, Cent...  \n",
       "1453  Unfurnished, Balcony, Built in Wardrobes, Cent...  \n",
       "862   Unfurnished, Balcony, Built in Wardrobes, Cent...  \n",
       "...                                                 ...  \n",
       "1257  Unfurnished, Balcony, Built in Wardrobes, Pets...  \n",
       "102   Furnished, Balcony, Built in Wardrobes, Covere...  \n",
       "56    Furnished, Balcony, Built in Wardrobes, Covere...  \n",
       "895   Unfurnished, Covered Parking, Lobby in Buildin...  \n",
       "710   Unfurnished, Covered Parking, Lobby in Buildin...  \n",
       "\n",
       "[44 rows x 10 columns]"
      ]
     },
     "execution_count": 110,
     "metadata": {},
     "output_type": "execute_result"
    }
   ],
   "source": [
    "pd.set_option('display.max_rows', 25)\n",
    "\n",
    "property_ids = df_properties['id']\n",
    "df_properties[property_ids.isin(property_ids[property_ids.duplicated()])].sort_values('id')"
   ]
  },
  {
   "cell_type": "markdown",
   "metadata": {},
   "source": [
    "We can see above that we have 112 duplicate properties. Which means we have to remove 56 rows out of our properties data"
   ]
  },
  {
   "cell_type": "code",
   "execution_count": 111,
   "metadata": {},
   "outputs": [
    {
     "data": {
      "text/html": [
       "<div>\n",
       "<style scoped>\n",
       "    .dataframe tbody tr th:only-of-type {\n",
       "        vertical-align: middle;\n",
       "    }\n",
       "\n",
       "    .dataframe tbody tr th {\n",
       "        vertical-align: top;\n",
       "    }\n",
       "\n",
       "    .dataframe thead th {\n",
       "        text-align: right;\n",
       "    }\n",
       "</style>\n",
       "<table border=\"1\" class=\"dataframe\">\n",
       "  <thead>\n",
       "    <tr style=\"text-align: right;\">\n",
       "      <th></th>\n",
       "      <th>id</th>\n",
       "      <th>price</th>\n",
       "      <th>location</th>\n",
       "      <th>latitude</th>\n",
       "      <th>longitude</th>\n",
       "      <th>size</th>\n",
       "      <th>no_of_bedrooms</th>\n",
       "      <th>no_of_bathrooms</th>\n",
       "      <th>completion_status</th>\n",
       "      <th>amenities</th>\n",
       "    </tr>\n",
       "  </thead>\n",
       "  <tbody>\n",
       "  </tbody>\n",
       "</table>\n",
       "</div>"
      ],
      "text/plain": [
       "Empty DataFrame\n",
       "Columns: [id, price, location, latitude, longitude, size, no_of_bedrooms, no_of_bathrooms, completion_status, amenities]\n",
       "Index: []"
      ]
     },
     "execution_count": 111,
     "metadata": {},
     "output_type": "execute_result"
    }
   ],
   "source": [
    "# calling our custom function to remove duplicate properties on the basis of id\n",
    "\n",
    "df_properties = dc.remove_duplocate_properties(df_properties)\n",
    "property_ids = df_properties['id']\n",
    "df_properties[property_ids.isin(property_ids[property_ids.duplicated()])].sort_values('id')"
   ]
  },
  {
   "cell_type": "code",
   "execution_count": 112,
   "metadata": {},
   "outputs": [
    {
     "name": "stdout",
     "output_type": "stream",
     "text": [
      "We have 1674 rows and 10 columns in our dataframe\n"
     ]
    }
   ],
   "source": [
    "# As we can see now, we don't have any duplicates. Let's see the dimensions of our data\n",
    "\n",
    "print('We have', df_properties.shape[0], 'rows and', df_properties.shape[1], 'columns in our dataframe')"
   ]
  },
  {
   "cell_type": "markdown",
   "metadata": {},
   "source": [
    "Comparing to our initial number of properties 1992, we now have 1935 unique properties. Which means we removed 57 redundent rows from our dataframe"
   ]
  },
  {
   "cell_type": "markdown",
   "metadata": {},
   "source": [
    "#### 4. Removing NULL and unwanted values\n",
    "\n",
    "Now let's see where we need to remove NULL data or unwanted data from our dataframe. \n",
    "\n",
    "To do this, we will first try to find our what data we have in each columns and then make a judgement on how to proceed with this task"
   ]
  },
  {
   "cell_type": "markdown",
   "metadata": {},
   "source": [
    "##### 4.1 Price"
   ]
  },
  {
   "cell_type": "code",
   "execution_count": 113,
   "metadata": {},
   "outputs": [
    {
     "data": {
      "text/plain": [
       "55000            45\n",
       "Ask for price    43\n",
       "75000            42\n",
       "45000            39\n",
       "30000            36\n",
       "                 ..\n",
       "3750000           1\n",
       "325000            1\n",
       "142000            1\n",
       "276000            1\n",
       "42500             1\n",
       "Name: price, Length: 330, dtype: int64"
      ]
     },
     "execution_count": 113,
     "metadata": {},
     "output_type": "execute_result"
    }
   ],
   "source": [
    "# Unique values for price column\n",
    "\n",
    "df_properties['price'].value_counts()"
   ]
  },
  {
   "cell_type": "code",
   "execution_count": 114,
   "metadata": {},
   "outputs": [
    {
     "data": {
      "text/plain": [
       "55000     45\n",
       "75000     42\n",
       "45000     39\n",
       "30000     36\n",
       "70000     34\n",
       "          ..\n",
       "69900      1\n",
       "94999      1\n",
       "590000     1\n",
       "171000     1\n",
       "68900      1\n",
       "Name: price, Length: 329, dtype: int64"
      ]
     },
     "execution_count": 114,
     "metadata": {},
     "output_type": "execute_result"
    }
   ],
   "source": [
    "# As we can see above that some of the properties have their price defined as 'Ask for price'. This is certinly not going to help us. So let's drop all the properties where price is defined as 'Ask for price'\n",
    "\n",
    "df_properties = dc.remove_askforprice_properties(df_properties)\n",
    "df_properties['price'].value_counts()"
   ]
  },
  {
   "cell_type": "markdown",
   "metadata": {},
   "source": [
    "As you can see above, we have removed all the properties having price as 'Ask for price'"
   ]
  },
  {
   "cell_type": "markdown",
   "metadata": {},
   "source": [
    "##### 4.2 Number of Bathrooms"
   ]
  },
  {
   "cell_type": "code",
   "execution_count": 115,
   "metadata": {},
   "outputs": [
    {
     "data": {
      "text/plain": [
       "2.0    537\n",
       "1.0    499\n",
       "3.0    292\n",
       "4.0    135\n",
       "5.0     89\n",
       "6.0     38\n",
       "7.0     35\n",
       "Name: no_of_bathrooms, dtype: int64"
      ]
     },
     "execution_count": 115,
     "metadata": {},
     "output_type": "execute_result"
    }
   ],
   "source": [
    "df_properties['no_of_bathrooms'].value_counts()"
   ]
  },
  {
   "cell_type": "code",
   "execution_count": 116,
   "metadata": {},
   "outputs": [],
   "source": [
    "# Now, before handline 19 NULL values in no_of_bathrooms, we will need to perform certain steps.\n",
    "\n",
    "# fill nan with 0 in no_of_bathrooms\n",
    "\n",
    "replacement= {'no_of_bathrooms': 0} \n",
    "df_properties = dc.replace_nan(df_properties, replacement)\n",
    "\n",
    "# As no_of_bathrooms column is an object, lets convert it to int to get mean and average values\n",
    "convert_dict = {'no_of_bathrooms' : int}\n",
    "\n",
    "df_properties = dc.convert_datatypes(df_properties, convert_dict)"
   ]
  },
  {
   "cell_type": "code",
   "execution_count": 117,
   "metadata": {},
   "outputs": [
    {
     "name": "stdout",
     "output_type": "stream",
     "text": [
      "Mean: 2.39546290619252\n",
      "Rounded Mean number of bathrooms: 2\n"
     ]
    }
   ],
   "source": [
    "# now that bathrooms column is converted to int and null values are replaced with. Let's find out what is the mean value for bathroom and then use that value to replace NULL\n",
    "\n",
    "print(\"Mean:\", df_properties['no_of_bathrooms'].mean())\n",
    "print(\"Rounded Mean number of bathrooms:\", round(df_properties['no_of_bathrooms'].mean()))"
   ]
  },
  {
   "cell_type": "code",
   "execution_count": 118,
   "metadata": {},
   "outputs": [
    {
     "data": {
      "text/plain": [
       "2    543\n",
       "1    499\n",
       "3    292\n",
       "4    135\n",
       "5     89\n",
       "6     38\n",
       "7     35\n",
       "Name: no_of_bathrooms, dtype: int64"
      ]
     },
     "execution_count": 118,
     "metadata": {},
     "output_type": "execute_result"
    }
   ],
   "source": [
    "# Now lets replace 0 value with our mean value of 2\n",
    "\n",
    "df_properties['no_of_bathrooms'].replace(0, round(df_properties['no_of_bathrooms'].mean()), inplace = True)\n",
    "\n",
    "df_properties['no_of_bathrooms'].value_counts()"
   ]
  },
  {
   "cell_type": "markdown",
   "metadata": {},
   "source": [
    "##### 4.3 Number of Bedrooms"
   ]
  },
  {
   "cell_type": "code",
   "execution_count": 119,
   "metadata": {},
   "outputs": [
    {
     "data": {
      "text/plain": [
       "1         528\n",
       "2         393\n",
       "studio    326\n",
       "3         182\n",
       "4         107\n",
       "5          74\n",
       "6          13\n",
       "7           5\n",
       "Name: no_of_bedrooms, dtype: int64"
      ]
     },
     "execution_count": 119,
     "metadata": {},
     "output_type": "execute_result"
    }
   ],
   "source": [
    "df_properties['no_of_bedrooms'].value_counts()"
   ]
  },
  {
   "cell_type": "markdown",
   "metadata": {},
   "source": [
    "As we can see above, bedroom column includes variety of data. So:\n",
    "- '+ Maid' will be removed from bedroom column and converted into a new feature call MaidRoom 0 or 1, indicating whether the apartment has a maid room or not\n",
    "- studio will be converted to 0, as their really isn't any separate bedrooms in studio apartment"
   ]
  },
  {
   "cell_type": "code",
   "execution_count": 120,
   "metadata": {},
   "outputs": [
    {
     "data": {
      "text/plain": [
       "8816639    1\n",
       "8924089    1\n",
       "8936809    1\n",
       "8335456    1\n",
       "8926574    1\n",
       "          ..\n",
       "8805050    1\n",
       "8805052    1\n",
       "8870592    1\n",
       "8889025    1\n",
       "8916992    1\n",
       "Name: id, Length: 1631, dtype: int64"
      ]
     },
     "execution_count": 120,
     "metadata": {},
     "output_type": "execute_result"
    }
   ],
   "source": [
    " # assigning 0 bedroom to studio apartments\n",
    "# df_properties['no_of_bedrooms'] = df_properties.no_of_bedrooms.apply(lambda x: x.replace('studio', '0'))\n",
    "\n",
    "# # removing + Maid string from bedrooms column\n",
    "# df_properties['no_of_bedrooms'] = df_properties.no_of_bedrooms.apply(lambda x: x.replace(' + Maid', ''))\n",
    "df_properties = dc.fix_bedroom_column(df_properties)\n",
    "df_properties['id'].value_counts()"
   ]
  },
  {
   "cell_type": "markdown",
   "metadata": {},
   "source": [
    "##### 4.4 Amenities"
   ]
  },
  {
   "cell_type": "markdown",
   "metadata": {},
   "source": [
    "For handling amenities, we will do:\n",
    "\n",
    "2. Clean up the retreived amenities list of special chars, spaces, etc\n",
    "3. Split the amenities list into individual feature with default value of 0\n",
    "4. Loop all properties and set each amenity feature to either 1 or 0 if that apartment has that perticular amenity. I hope this makes sense :)"
   ]
  },
  {
   "cell_type": "code",
   "execution_count": 121,
   "metadata": {},
   "outputs": [
    {
     "data": {
      "text/plain": [
       "\"Unfurnished, Balcony, Barbecue Area, Built in Wardrobes, Central A/C, Children's Play Area, Children's Pool, Concierge, Kitchen Appliances, Lobby in Building, Maid Service, Maids Room, Pets Allowed, Private Garden, Private Gym, Private Jacuzzi, Private Pool, Security, Shared Gym, Shared Pool, Shared Spa, Study, Vastu-compliant, View of Landmark, View of Water, Walk-in Closet, \""
      ]
     },
     "execution_count": 121,
     "metadata": {},
     "output_type": "execute_result"
    }
   ],
   "source": [
    "df_properties['amenities'] = df_properties['amenities'].astype(str)\n",
    "most_amenities = max(df_properties['amenities'], key = len) #return the max amenities in dataframe\n",
    "most_amenities"
   ]
  },
  {
   "cell_type": "code",
   "execution_count": 122,
   "metadata": {},
   "outputs": [],
   "source": [
    "def fill_amenities(data_frame, new_amenities_list):\n",
    "    data_frame.amenities = data_frame.amenities.apply(lambda x: x.replace(', ', ',').replace(\"'\", '').replace(' ', '_').replace('-', '_').replace('/', '').lower())\n",
    "    \n",
    "    for index, prop_row in data_frame.iterrows():\n",
    "        tab = []\n",
    "        for val in prop_row['amenities'].split(','):\n",
    "            for val1 in str(val).split(','):\n",
    "                tab.append(val1)\n",
    "        \n",
    "        tab = tab[ : -1]\n",
    "        #print(tab)        \n",
    "        for obj in tab:\n",
    "            for column_name in new_amenities_list:\n",
    "                if obj.lower().strip() in column_name.lower().strip() or obj.lower().strip() == column_name.lower().strip():\n",
    "                    data_frame.loc[index, column_name] = True\n",
    "                # else:\n",
    "                #     data_frame.loc[index, column_name] = False\n",
    "            \n",
    "    return data_frame;"
   ]
  },
  {
   "cell_type": "code",
   "execution_count": 123,
   "metadata": {},
   "outputs": [
    {
     "name": "stdout",
     "output_type": "stream",
     "text": [
      "most_amenities is ['unfurnished', 'balcony', 'barbecue_area', 'built_in_wardrobes', 'central_ac', 'childrens_play_area', 'childrens_pool', 'concierge', 'kitchen_appliances', 'lobby_in_building', 'maid_service', 'maids_room', 'pets_allowed', 'private_garden', 'private_gym', 'private_jacuzzi', 'private_pool', 'security', 'shared_gym', 'shared_pool', 'shared_spa', 'study', 'vastu_compliant', 'view_of_landmark', 'view_of_water', 'walk_in_closet', '']\n"
     ]
    }
   ],
   "source": [
    "# Retreiving MAX amenity from dataframe\n",
    "df_properties['amenities'] = df_properties['amenities'].astype(str)\n",
    "most_amenities = max(df_properties['amenities'], key = len)\n",
    "print('most_amenities is {}'.format(most_amenities))\n",
    "# Custom function for converting amenities to column\n",
    "df_properties, new_amenities_list = dc.convert_amenities_to_columns(df_properties, most_amenities)\n",
    "\n",
    "# Setting 1 or 0 against each property for their amenity\n",
    "df_properties = fill_amenities(df_properties, new_amenities_list)\n",
    "\n",
    "#df_properties.info()"
   ]
  },
  {
   "cell_type": "markdown",
   "metadata": {},
   "source": [
    "##### 4.5 Apartment Quality\n",
    "\n",
    "It is safe to say that based on number of amenities offered in an apartment, we can set the quality for each apartment.\n",
    "\n",
    "But do note that we might miscatgorize the apartment just because the amenities are not recorded by property portal, even though it's highly priced apartment.\n",
    "\n",
    "But as we are here for learning, so lets do this."
   ]
  },
  {
   "cell_type": "code",
   "execution_count": 124,
   "metadata": {},
   "outputs": [
    {
     "name": "stdout",
     "output_type": "stream",
     "text": [
      "Maxiumum number of amenities any apartment has is  27\n"
     ]
    }
   ],
   "source": [
    "print('Maxiumum number of amenities any apartment has is ', len(most_amenities.split(', ')))"
   ]
  },
  {
   "cell_type": "markdown",
   "metadata": {},
   "source": [
    "Based on above number we can rate our properties into following categories:\n",
    "    \n",
    "(1 - 7): Low<br>\n",
    "(8 - 14): Medium<br>\n",
    "(15 - 21): High<br>\n",
    "(22 - 28): Ultra"
   ]
  },
  {
   "cell_type": "code",
   "execution_count": 125,
   "metadata": {},
   "outputs": [
    {
     "data": {
      "text/plain": [
       "Medium    1051\n",
       "Low        317\n",
       "High       253\n",
       "Ultra       10\n",
       "Name: quality, dtype: int64"
      ]
     },
     "execution_count": 125,
     "metadata": {},
     "output_type": "execute_result"
    }
   ],
   "source": [
    "df_properties = dc.mark_property_quality(df_properties)\n",
    "df_properties.quality.value_counts()"
   ]
  },
  {
   "cell_type": "markdown",
   "metadata": {},
   "source": [
    "As you can see we have successfully engineered a categorical feature for our property dataset"
   ]
  },
  {
   "cell_type": "markdown",
   "metadata": {},
   "source": [
    "##### 4.6 Size\n",
    "\n",
    "Let's lookinto size feature of our dataframe and clean-up the data. We will also engineer a new feature called price_per_sqft. This will be usefull for our exploratory analysis to see which localities are more expensive than others in terms of property pricings"
   ]
  },
  {
   "cell_type": "code",
   "execution_count": 126,
   "metadata": {},
   "outputs": [
    {
     "data": {
      "text/plain": [
       "450sqft  42sqm      24\n",
       "800sqft  74sqm      19\n",
       "700sqft  65sqm      15\n",
       "900sqft  84sqm      13\n",
       "850sqft  79sqm      12\n",
       "                    ..\n",
       "5489sqft  510sqm     1\n",
       "855sqft  79sqm       1\n",
       "1263sqft  117sqm     1\n",
       "538sqft  50sqm       1\n",
       "462sqft  43sqm       1\n",
       "Name: size, Length: 959, dtype: int64"
      ]
     },
     "execution_count": 126,
     "metadata": {},
     "output_type": "execute_result"
    }
   ],
   "source": [
    "df_properties['size'].value_counts()"
   ]
  },
  {
   "cell_type": "markdown",
   "metadata": {},
   "source": [
    "As you can see, size column contains details of both SQFT and SQM. For our analysis, we will keep the SQFT details and discard the SQM data, As keeping both values dosn't add value to our analysis"
   ]
  },
  {
   "cell_type": "code",
   "execution_count": 127,
   "metadata": {},
   "outputs": [
    {
     "data": {
      "text/html": [
       "<div>\n",
       "<style scoped>\n",
       "    .dataframe tbody tr th:only-of-type {\n",
       "        vertical-align: middle;\n",
       "    }\n",
       "\n",
       "    .dataframe tbody tr th {\n",
       "        vertical-align: top;\n",
       "    }\n",
       "\n",
       "    .dataframe thead th {\n",
       "        text-align: right;\n",
       "    }\n",
       "</style>\n",
       "<table border=\"1\" class=\"dataframe\">\n",
       "  <thead>\n",
       "    <tr style=\"text-align: right;\">\n",
       "      <th></th>\n",
       "      <th>id</th>\n",
       "      <th>location</th>\n",
       "      <th>latitude</th>\n",
       "      <th>longitude</th>\n",
       "      <th>price</th>\n",
       "      <th>size_in_sqft</th>\n",
       "      <th>price_per_sqft</th>\n",
       "      <th>no_of_bedrooms</th>\n",
       "      <th>no_of_bathrooms</th>\n",
       "      <th>quality</th>\n",
       "      <th>...</th>\n",
       "      <th>security</th>\n",
       "      <th>shared_gym</th>\n",
       "      <th>shared_pool</th>\n",
       "      <th>shared_spa</th>\n",
       "      <th>study</th>\n",
       "      <th>vastu_compliant</th>\n",
       "      <th>view_of_landmark</th>\n",
       "      <th>view_of_water</th>\n",
       "      <th>walk_in_closet</th>\n",
       "      <th></th>\n",
       "    </tr>\n",
       "  </thead>\n",
       "  <tbody>\n",
       "    <tr>\n",
       "      <th>0</th>\n",
       "      <td>8935194</td>\n",
       "      <td>Dubai, Arjan</td>\n",
       "      <td>25.065806</td>\n",
       "      <td>55.233004</td>\n",
       "      <td>34000</td>\n",
       "      <td>468</td>\n",
       "      <td>72.65</td>\n",
       "      <td>0</td>\n",
       "      <td>1</td>\n",
       "      <td>Medium</td>\n",
       "      <td>...</td>\n",
       "      <td>True</td>\n",
       "      <td>True</td>\n",
       "      <td>True</td>\n",
       "      <td>False</td>\n",
       "      <td>False</td>\n",
       "      <td>False</td>\n",
       "      <td>True</td>\n",
       "      <td>False</td>\n",
       "      <td>False</td>\n",
       "      <td>False</td>\n",
       "    </tr>\n",
       "    <tr>\n",
       "      <th>1</th>\n",
       "      <td>8922509</td>\n",
       "      <td>Dubai, Jumeirah, Jumeirah Bay Island</td>\n",
       "      <td>25.215192</td>\n",
       "      <td>55.235827</td>\n",
       "      <td>700000</td>\n",
       "      <td>1620</td>\n",
       "      <td>432.10</td>\n",
       "      <td>1</td>\n",
       "      <td>2</td>\n",
       "      <td>Medium</td>\n",
       "      <td>...</td>\n",
       "      <td>False</td>\n",
       "      <td>True</td>\n",
       "      <td>True</td>\n",
       "      <td>False</td>\n",
       "      <td>False</td>\n",
       "      <td>False</td>\n",
       "      <td>False</td>\n",
       "      <td>False</td>\n",
       "      <td>False</td>\n",
       "      <td>False</td>\n",
       "    </tr>\n",
       "    <tr>\n",
       "      <th>2</th>\n",
       "      <td>8919569</td>\n",
       "      <td>Dubai, Arjan</td>\n",
       "      <td>25.061118</td>\n",
       "      <td>55.245642</td>\n",
       "      <td>50000</td>\n",
       "      <td>900</td>\n",
       "      <td>55.56</td>\n",
       "      <td>1</td>\n",
       "      <td>2</td>\n",
       "      <td>Medium</td>\n",
       "      <td>...</td>\n",
       "      <td>True</td>\n",
       "      <td>True</td>\n",
       "      <td>True</td>\n",
       "      <td>False</td>\n",
       "      <td>False</td>\n",
       "      <td>False</td>\n",
       "      <td>True</td>\n",
       "      <td>False</td>\n",
       "      <td>False</td>\n",
       "      <td>False</td>\n",
       "    </tr>\n",
       "  </tbody>\n",
       "</table>\n",
       "<p>3 rows × 39 columns</p>\n",
       "</div>"
      ],
      "text/plain": [
       "        id                              location   latitude  longitude  \\\n",
       "0  8935194                          Dubai, Arjan  25.065806  55.233004   \n",
       "1  8922509  Dubai, Jumeirah, Jumeirah Bay Island  25.215192  55.235827   \n",
       "2  8919569                          Dubai, Arjan  25.061118  55.245642   \n",
       "\n",
       "    price  size_in_sqft  price_per_sqft no_of_bedrooms  no_of_bathrooms  \\\n",
       "0   34000           468           72.65              0                1   \n",
       "1  700000          1620          432.10              1                2   \n",
       "2   50000           900           55.56              1                2   \n",
       "\n",
       "  quality  ...  security shared_gym  shared_pool  shared_spa  study  \\\n",
       "0  Medium  ...      True       True         True       False  False   \n",
       "1  Medium  ...     False       True         True       False  False   \n",
       "2  Medium  ...      True       True         True       False  False   \n",
       "\n",
       "   vastu_compliant  view_of_landmark  view_of_water  walk_in_closet         \n",
       "0            False              True          False           False  False  \n",
       "1            False             False          False           False  False  \n",
       "2            False              True          False           False  False  \n",
       "\n",
       "[3 rows x 39 columns]"
      ]
     },
     "execution_count": 127,
     "metadata": {},
     "output_type": "execute_result"
    }
   ],
   "source": [
    "# Cleaning up property size details using custom function\n",
    "df_properties = dc.cleanup_property_size(df_properties)\n",
    "\n",
    "# rename column\n",
    "df_properties.rename(columns={'size':'size_in_sqft'}, inplace = True)\n",
    "\n",
    "# lets create a new computed\n",
    "df_properties = dc.create_feature_price_per_sqft(df_properties)\n",
    "\n",
    "df_properties.head(3)"
   ]
  },
  {
   "cell_type": "markdown",
   "metadata": {},
   "source": [
    "##### 4.7 Completion Status\n",
    "\n",
    "Let's take a look at completion status field and see what we find there"
   ]
  },
  {
   "cell_type": "code",
   "execution_count": 128,
   "metadata": {},
   "outputs": [
    {
     "data": {
      "text/plain": [
       "Series([], Name: completion_status, dtype: int64)"
      ]
     },
     "execution_count": 128,
     "metadata": {},
     "output_type": "execute_result"
    }
   ],
   "source": [
    "# Lets see what unique values we have.\n",
    "\n",
    "df_properties.completion_status.value_counts()"
   ]
  },
  {
   "cell_type": "code",
   "execution_count": 129,
   "metadata": {},
   "outputs": [
    {
     "data": {
      "text/plain": [
       "1631"
      ]
     },
     "execution_count": 129,
     "metadata": {},
     "output_type": "execute_result"
    }
   ],
   "source": [
    "# Lets count the null values\n",
    "\n",
    "df_properties.completion_status.isna().sum()"
   ]
  },
  {
   "cell_type": "markdown",
   "metadata": {},
   "source": [
    "As we can see, we have significant amount of properties without completion status. This can taint the findings.\n",
    "\n",
    "One way of handling this is to replace the empty completion status with 'Ready', as most of the properties are marked as ready.\n",
    "\n",
    "Other way, is to eliminate the properties which have no completion status.\n",
    "\n",
    "If we assess the completion status field, we can say that it is not that significant of a field to have the properties removed for it. So best way forward is to drop this column."
   ]
  },
  {
   "cell_type": "code",
   "execution_count": 130,
   "metadata": {},
   "outputs": [],
   "source": [
    "# Dropping completion_status field\n",
    "\n",
    "df_properties.drop('completion_status', axis = 1, inplace = True)"
   ]
  },
  {
   "cell_type": "markdown",
   "metadata": {},
   "source": [
    "In real world, the decision of dropping a column should be based on stakeholder input. We are just practicing, so why not :)"
   ]
  },
  {
   "cell_type": "markdown",
   "metadata": {},
   "source": [
    "##### 4.8 Location"
   ]
  },
  {
   "cell_type": "code",
   "execution_count": 131,
   "metadata": {},
   "outputs": [
    {
     "data": {
      "text/plain": [
       "Dubai, Jumeirah Village Circle                               99\n",
       "Dubai, Dubai Marina                                          75\n",
       "Dubai, Business Bay                                          63\n",
       "Dubai, Arjan                                                 53\n",
       "Dubai, Downtown Dubai                                        51\n",
       "                                                             ..\n",
       "Dubai, Dubai South (Dubai World Central), MAG 5               1\n",
       "Dubai, Dubai Investment Park, Ritaj (Residential Complex)     1\n",
       "Dubai, Dubai Marina, Oceanic                                  1\n",
       "Dubai, Al Qusais                                              1\n",
       "Dubai, Al Barari, Al Barari Villas                            1\n",
       "Name: location, Length: 293, dtype: int64"
      ]
     },
     "execution_count": 131,
     "metadata": {},
     "output_type": "execute_result"
    }
   ],
   "source": [
    "df_properties.location.value_counts()"
   ]
  },
  {
   "cell_type": "markdown",
   "metadata": {},
   "source": [
    "If we look above, we can see that in some cases we have only have location as \"Dubai, [Neighborhood Name]\" and in same case we have \"Dubai, [Neighborhood Name], Building/Project Name\"\n",
    "\n",
    "Let's standardize this by:\n",
    "\n",
    "- Remove \"Dubai, \" part from location as we all know all properties are from Dubai\n",
    "- Remove the project part of Location as this analysis is more targeted to locality rather than project or building\n",
    "- All locations containing word downtown in neighbor, except for the ones called downtown jebel ali"
   ]
  },
  {
   "cell_type": "code",
   "execution_count": 132,
   "metadata": {},
   "outputs": [],
   "source": [
    "df_properties = dc.clean_location_details(df_properties)"
   ]
  },
  {
   "cell_type": "code",
   "execution_count": 133,
   "metadata": {},
   "outputs": [
    {
     "data": {
      "text/plain": [
       "array(['Arjan', 'Jumeirah', 'Jumeirah Village Circle', 'Business Bay',\n",
       "       'Palm Jumeirah', 'Damac Hills 2', 'Downtown Dubai',\n",
       "       'Arabian Ranches 2', 'Arabian Ranches', 'Dubai Sports City',\n",
       "       'Jumeirah Village Triangle', 'Umm Suqeim',\n",
       "       'Dubai Production City (IMPZ)', 'Al Jaddaf', 'Jumeirah Park',\n",
       "       'Jumeirah Beach Residence', 'Dubai Hills Estate', 'Al Barari',\n",
       "       'Dubai Creek Harbour (The Lagoons)', 'Dubai Harbour', 'Meydan',\n",
       "       'Al Furjan', 'Bluewaters', 'Town Square', 'The Springs',\n",
       "       'Dubai Silicon Oasis', 'DAMAC Hills', 'Remraam', 'Meadows',\n",
       "       'International City', 'Nadd Al Sheba', 'Jumeirah Golf Estates',\n",
       "       'Mohammed Bin Rashid City', 'Living Legends', 'Reem',\n",
       "       'Discovery Gardens', 'Dubai Marina', 'Al Warsan', 'Motor City',\n",
       "       'Al Barsha', 'Dubai South (Dubai World Central)', 'Greens',\n",
       "       'Dubai Land', 'Barsha Heights (Tecom)', 'The Views',\n",
       "       'Jumeirah Lake Towers', 'The Hills', 'DIFC', 'The Villa',\n",
       "       'Culture Village', 'Wasl Gate', 'Dubai Investment Park',\n",
       "       'Al Muhaisnah', 'Bur Mankhool', 'Dubai Waterfront',\n",
       "       'Jumeirah Islands', 'DuBiotech', 'Dubai Studio City', 'Majan',\n",
       "       'Mudon', 'Bur Al Hamriya', \"Al Warqa'a\", 'Deira', 'Al Quoz',\n",
       "       'Al Sufouh', 'Maritime City', 'Al Qusais', 'Mirdif', 'Umm Hurair',\n",
       "       'Sheikh Zayed Road', 'Bur Al Raffa', 'Nadd Al Hammar', 'Dubai',\n",
       "       'World Trade Center', 'Dubai Residence Complex', 'Bur Oud Metha',\n",
       "       'Old Town', 'Al Garhoud', 'Bur Al Souk Al Kabeer', 'Karama',\n",
       "       'Al Nahda', 'Al Mina', 'Serena', 'Dubai Media City',\n",
       "       'Dubai Industrial Park', 'City Walk', 'Bur Dubai', 'Al Kifaf',\n",
       "       'Jebel Ali', 'Al Satwa', 'Al Badaa', 'Dubai Festival City',\n",
       "       'Dubai Healthcare City', 'Emirates Hills',\n",
       "       'The Roots DAMAC Hills 2', 'Al Safa', 'Green Community'],\n",
       "      dtype=object)"
      ]
     },
     "execution_count": 133,
     "metadata": {},
     "output_type": "execute_result"
    }
   ],
   "source": [
    "df_properties.neighborhood.unique()"
   ]
  },
  {
   "cell_type": "code",
   "execution_count": 134,
   "metadata": {},
   "outputs": [
    {
     "data": {
      "text/plain": [
       "Dubai Marina               129\n",
       "Jumeirah Village Circle    121\n",
       "Downtown Dubai             119\n",
       "Business Bay                77\n",
       "Dubai Sports City           60\n",
       "                          ... \n",
       "Serena                       1\n",
       "Al Sufouh                    1\n",
       "Mudon                        1\n",
       "Al Garhoud                   1\n",
       "Maritime City                1\n",
       "Name: neighborhood, Length: 97, dtype: int64"
      ]
     },
     "execution_count": 134,
     "metadata": {},
     "output_type": "execute_result"
    }
   ],
   "source": [
    "df_properties.neighborhood.value_counts()"
   ]
  },
  {
   "cell_type": "markdown",
   "metadata": {},
   "source": [
    "Now we have a very normalized neighborhood data which can give us helpful insight of price trends per Dubai neighborhoods"
   ]
  },
  {
   "cell_type": "markdown",
   "metadata": {},
   "source": [
    "#### 5. Saving Data\n",
    "\n",
    "Now that we have cleaned our data, it's time to save this updated dataset into CSV format.\n",
    "\n",
    "We will utilize this updated CSV in our exploratory and machine learning analysis"
   ]
  },
  {
   "cell_type": "code",
   "execution_count": 135,
   "metadata": {},
   "outputs": [],
   "source": [
    "df_properties.to_csv('cleaned_property_data.csv', index = False)"
   ]
  }
 ],
 "metadata": {
  "interpreter": {
   "hash": "ad2bdc8ecc057115af97d19610ffacc2b4e99fae6737bb82f5d7fb13d2f2c186"
  },
  "kernelspec": {
   "display_name": "Python 3.7.0 ('base')",
   "language": "python",
   "name": "python3"
  },
  "language_info": {
   "codemirror_mode": {
    "name": "ipython",
    "version": 3
   },
   "file_extension": ".py",
   "mimetype": "text/x-python",
   "name": "python",
   "nbconvert_exporter": "python",
   "pygments_lexer": "ipython3",
   "version": "3.7.0"
  },
  "vscode": {
   "interpreter": {
    "hash": "ad2bdc8ecc057115af97d19610ffacc2b4e99fae6737bb82f5d7fb13d2f2c186"
   }
  }
 },
 "nbformat": 4,
 "nbformat_minor": 4
}
